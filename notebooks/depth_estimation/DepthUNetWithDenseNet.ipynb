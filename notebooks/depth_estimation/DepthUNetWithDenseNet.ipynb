{
  "nbformat": 4,
  "nbformat_minor": 0,
  "metadata": {
    "colab": {
      "provenance": []
    },
    "kernelspec": {
      "name": "python3",
      "display_name": "Python 3"
    },
    "language_info": {
      "name": "python"
    },
    "accelerator": "GPU",
    "gpuClass": "standard",
    "widgets": {
      "application/vnd.jupyter.widget-state+json": {
        "acf91963310f495998df69b1e155ba63": {
          "model_module": "@jupyter-widgets/controls",
          "model_name": "HBoxModel",
          "model_module_version": "1.5.0",
          "state": {
            "_dom_classes": [],
            "_model_module": "@jupyter-widgets/controls",
            "_model_module_version": "1.5.0",
            "_model_name": "HBoxModel",
            "_view_count": null,
            "_view_module": "@jupyter-widgets/controls",
            "_view_module_version": "1.5.0",
            "_view_name": "HBoxView",
            "box_style": "",
            "children": [
              "IPY_MODEL_62a6b9d30dfd4fcc9acd8910e27b787a",
              "IPY_MODEL_461b0a06385f44e2bf450db5d64bf9d1",
              "IPY_MODEL_0f80ff0aec294639bfbda2308338303b"
            ],
            "layout": "IPY_MODEL_7d171c8ff512473ab42b8438889001fa"
          }
        },
        "62a6b9d30dfd4fcc9acd8910e27b787a": {
          "model_module": "@jupyter-widgets/controls",
          "model_name": "HTMLModel",
          "model_module_version": "1.5.0",
          "state": {
            "_dom_classes": [],
            "_model_module": "@jupyter-widgets/controls",
            "_model_module_version": "1.5.0",
            "_model_name": "HTMLModel",
            "_view_count": null,
            "_view_module": "@jupyter-widgets/controls",
            "_view_module_version": "1.5.0",
            "_view_name": "HTMLView",
            "description": "",
            "description_tooltip": null,
            "layout": "IPY_MODEL_31d5be1b219a428bafd538490ce31e61",
            "placeholder": "​",
            "style": "IPY_MODEL_245daa62ded3408a964658f33cf10f77",
            "value": "100%"
          }
        },
        "461b0a06385f44e2bf450db5d64bf9d1": {
          "model_module": "@jupyter-widgets/controls",
          "model_name": "FloatProgressModel",
          "model_module_version": "1.5.0",
          "state": {
            "_dom_classes": [],
            "_model_module": "@jupyter-widgets/controls",
            "_model_module_version": "1.5.0",
            "_model_name": "FloatProgressModel",
            "_view_count": null,
            "_view_module": "@jupyter-widgets/controls",
            "_view_module_version": "1.5.0",
            "_view_name": "ProgressView",
            "bar_style": "success",
            "description": "",
            "description_tooltip": null,
            "layout": "IPY_MODEL_5494d5f172294e6480ffe4bf654889a4",
            "max": 32342954,
            "min": 0,
            "orientation": "horizontal",
            "style": "IPY_MODEL_f51c44b4681542a0a4c3b3f81b4f0f16",
            "value": 32342954
          }
        },
        "0f80ff0aec294639bfbda2308338303b": {
          "model_module": "@jupyter-widgets/controls",
          "model_name": "HTMLModel",
          "model_module_version": "1.5.0",
          "state": {
            "_dom_classes": [],
            "_model_module": "@jupyter-widgets/controls",
            "_model_module_version": "1.5.0",
            "_model_name": "HTMLModel",
            "_view_count": null,
            "_view_module": "@jupyter-widgets/controls",
            "_view_module_version": "1.5.0",
            "_view_name": "HTMLView",
            "description": "",
            "description_tooltip": null,
            "layout": "IPY_MODEL_2b13e669cd2f4da2b16af0cce851938b",
            "placeholder": "​",
            "style": "IPY_MODEL_d5d15efee8f0402196e904c49afcbcb3",
            "value": " 30.8M/30.8M [00:00&lt;00:00, 33.8MB/s]"
          }
        },
        "7d171c8ff512473ab42b8438889001fa": {
          "model_module": "@jupyter-widgets/base",
          "model_name": "LayoutModel",
          "model_module_version": "1.2.0",
          "state": {
            "_model_module": "@jupyter-widgets/base",
            "_model_module_version": "1.2.0",
            "_model_name": "LayoutModel",
            "_view_count": null,
            "_view_module": "@jupyter-widgets/base",
            "_view_module_version": "1.2.0",
            "_view_name": "LayoutView",
            "align_content": null,
            "align_items": null,
            "align_self": null,
            "border": null,
            "bottom": null,
            "display": null,
            "flex": null,
            "flex_flow": null,
            "grid_area": null,
            "grid_auto_columns": null,
            "grid_auto_flow": null,
            "grid_auto_rows": null,
            "grid_column": null,
            "grid_gap": null,
            "grid_row": null,
            "grid_template_areas": null,
            "grid_template_columns": null,
            "grid_template_rows": null,
            "height": null,
            "justify_content": null,
            "justify_items": null,
            "left": null,
            "margin": null,
            "max_height": null,
            "max_width": null,
            "min_height": null,
            "min_width": null,
            "object_fit": null,
            "object_position": null,
            "order": null,
            "overflow": null,
            "overflow_x": null,
            "overflow_y": null,
            "padding": null,
            "right": null,
            "top": null,
            "visibility": null,
            "width": null
          }
        },
        "31d5be1b219a428bafd538490ce31e61": {
          "model_module": "@jupyter-widgets/base",
          "model_name": "LayoutModel",
          "model_module_version": "1.2.0",
          "state": {
            "_model_module": "@jupyter-widgets/base",
            "_model_module_version": "1.2.0",
            "_model_name": "LayoutModel",
            "_view_count": null,
            "_view_module": "@jupyter-widgets/base",
            "_view_module_version": "1.2.0",
            "_view_name": "LayoutView",
            "align_content": null,
            "align_items": null,
            "align_self": null,
            "border": null,
            "bottom": null,
            "display": null,
            "flex": null,
            "flex_flow": null,
            "grid_area": null,
            "grid_auto_columns": null,
            "grid_auto_flow": null,
            "grid_auto_rows": null,
            "grid_column": null,
            "grid_gap": null,
            "grid_row": null,
            "grid_template_areas": null,
            "grid_template_columns": null,
            "grid_template_rows": null,
            "height": null,
            "justify_content": null,
            "justify_items": null,
            "left": null,
            "margin": null,
            "max_height": null,
            "max_width": null,
            "min_height": null,
            "min_width": null,
            "object_fit": null,
            "object_position": null,
            "order": null,
            "overflow": null,
            "overflow_x": null,
            "overflow_y": null,
            "padding": null,
            "right": null,
            "top": null,
            "visibility": null,
            "width": null
          }
        },
        "245daa62ded3408a964658f33cf10f77": {
          "model_module": "@jupyter-widgets/controls",
          "model_name": "DescriptionStyleModel",
          "model_module_version": "1.5.0",
          "state": {
            "_model_module": "@jupyter-widgets/controls",
            "_model_module_version": "1.5.0",
            "_model_name": "DescriptionStyleModel",
            "_view_count": null,
            "_view_module": "@jupyter-widgets/base",
            "_view_module_version": "1.2.0",
            "_view_name": "StyleView",
            "description_width": ""
          }
        },
        "5494d5f172294e6480ffe4bf654889a4": {
          "model_module": "@jupyter-widgets/base",
          "model_name": "LayoutModel",
          "model_module_version": "1.2.0",
          "state": {
            "_model_module": "@jupyter-widgets/base",
            "_model_module_version": "1.2.0",
            "_model_name": "LayoutModel",
            "_view_count": null,
            "_view_module": "@jupyter-widgets/base",
            "_view_module_version": "1.2.0",
            "_view_name": "LayoutView",
            "align_content": null,
            "align_items": null,
            "align_self": null,
            "border": null,
            "bottom": null,
            "display": null,
            "flex": null,
            "flex_flow": null,
            "grid_area": null,
            "grid_auto_columns": null,
            "grid_auto_flow": null,
            "grid_auto_rows": null,
            "grid_column": null,
            "grid_gap": null,
            "grid_row": null,
            "grid_template_areas": null,
            "grid_template_columns": null,
            "grid_template_rows": null,
            "height": null,
            "justify_content": null,
            "justify_items": null,
            "left": null,
            "margin": null,
            "max_height": null,
            "max_width": null,
            "min_height": null,
            "min_width": null,
            "object_fit": null,
            "object_position": null,
            "order": null,
            "overflow": null,
            "overflow_x": null,
            "overflow_y": null,
            "padding": null,
            "right": null,
            "top": null,
            "visibility": null,
            "width": null
          }
        },
        "f51c44b4681542a0a4c3b3f81b4f0f16": {
          "model_module": "@jupyter-widgets/controls",
          "model_name": "ProgressStyleModel",
          "model_module_version": "1.5.0",
          "state": {
            "_model_module": "@jupyter-widgets/controls",
            "_model_module_version": "1.5.0",
            "_model_name": "ProgressStyleModel",
            "_view_count": null,
            "_view_module": "@jupyter-widgets/base",
            "_view_module_version": "1.2.0",
            "_view_name": "StyleView",
            "bar_color": null,
            "description_width": ""
          }
        },
        "2b13e669cd2f4da2b16af0cce851938b": {
          "model_module": "@jupyter-widgets/base",
          "model_name": "LayoutModel",
          "model_module_version": "1.2.0",
          "state": {
            "_model_module": "@jupyter-widgets/base",
            "_model_module_version": "1.2.0",
            "_model_name": "LayoutModel",
            "_view_count": null,
            "_view_module": "@jupyter-widgets/base",
            "_view_module_version": "1.2.0",
            "_view_name": "LayoutView",
            "align_content": null,
            "align_items": null,
            "align_self": null,
            "border": null,
            "bottom": null,
            "display": null,
            "flex": null,
            "flex_flow": null,
            "grid_area": null,
            "grid_auto_columns": null,
            "grid_auto_flow": null,
            "grid_auto_rows": null,
            "grid_column": null,
            "grid_gap": null,
            "grid_row": null,
            "grid_template_areas": null,
            "grid_template_columns": null,
            "grid_template_rows": null,
            "height": null,
            "justify_content": null,
            "justify_items": null,
            "left": null,
            "margin": null,
            "max_height": null,
            "max_width": null,
            "min_height": null,
            "min_width": null,
            "object_fit": null,
            "object_position": null,
            "order": null,
            "overflow": null,
            "overflow_x": null,
            "overflow_y": null,
            "padding": null,
            "right": null,
            "top": null,
            "visibility": null,
            "width": null
          }
        },
        "d5d15efee8f0402196e904c49afcbcb3": {
          "model_module": "@jupyter-widgets/controls",
          "model_name": "DescriptionStyleModel",
          "model_module_version": "1.5.0",
          "state": {
            "_model_module": "@jupyter-widgets/controls",
            "_model_module_version": "1.5.0",
            "_model_name": "DescriptionStyleModel",
            "_view_count": null,
            "_view_module": "@jupyter-widgets/base",
            "_view_module_version": "1.2.0",
            "_view_name": "StyleView",
            "description_width": ""
          }
        }
      }
    }
  },
  "cells": [
    {
      "cell_type": "markdown",
      "source": [
        "# DepthUnet With DenseNet Encoder"
      ],
      "metadata": {
        "id": "PtMZBTemLBK8"
      }
    },
    {
      "cell_type": "markdown",
      "source": [
        "Install the required libraries"
      ],
      "metadata": {
        "id": "YU9uXBnvFTEF"
      }
    },
    {
      "cell_type": "code",
      "source": [
        "!pip install torchgeometry\n",
        "!pip install --upgrade --no-cache-dir gdown"
      ],
      "metadata": {
        "colab": {
          "base_uri": "https://localhost:8080/"
        },
        "id": "SY7MzBYiLhNW",
        "outputId": "38996c46-7116-472a-aaec-6fc66bc05967"
      },
      "execution_count": 1,
      "outputs": [
        {
          "output_type": "stream",
          "name": "stdout",
          "text": [
            "Looking in indexes: https://pypi.org/simple, https://us-python.pkg.dev/colab-wheels/public/simple/\n",
            "Collecting torchgeometry\n",
            "  Downloading torchgeometry-0.1.2-py2.py3-none-any.whl (42 kB)\n",
            "\u001b[K     |████████████████████████████████| 42 kB 111 kB/s \n",
            "\u001b[?25hRequirement already satisfied: torch>=1.0.0 in /usr/local/lib/python3.8/dist-packages (from torchgeometry) (1.13.0+cu116)\n",
            "Requirement already satisfied: typing-extensions in /usr/local/lib/python3.8/dist-packages (from torch>=1.0.0->torchgeometry) (4.4.0)\n",
            "Installing collected packages: torchgeometry\n",
            "Successfully installed torchgeometry-0.1.2\n",
            "Looking in indexes: https://pypi.org/simple, https://us-python.pkg.dev/colab-wheels/public/simple/\n",
            "Requirement already satisfied: gdown in /usr/local/lib/python3.8/dist-packages (4.4.0)\n",
            "Collecting gdown\n",
            "  Downloading gdown-4.6.0-py3-none-any.whl (14 kB)\n",
            "Requirement already satisfied: tqdm in /usr/local/lib/python3.8/dist-packages (from gdown) (4.64.1)\n",
            "Requirement already satisfied: beautifulsoup4 in /usr/local/lib/python3.8/dist-packages (from gdown) (4.6.3)\n",
            "Requirement already satisfied: filelock in /usr/local/lib/python3.8/dist-packages (from gdown) (3.8.0)\n",
            "Requirement already satisfied: six in /usr/local/lib/python3.8/dist-packages (from gdown) (1.15.0)\n",
            "Requirement already satisfied: requests[socks] in /usr/local/lib/python3.8/dist-packages (from gdown) (2.23.0)\n",
            "Requirement already satisfied: urllib3!=1.25.0,!=1.25.1,<1.26,>=1.21.1 in /usr/local/lib/python3.8/dist-packages (from requests[socks]->gdown) (1.24.3)\n",
            "Requirement already satisfied: chardet<4,>=3.0.2 in /usr/local/lib/python3.8/dist-packages (from requests[socks]->gdown) (3.0.4)\n",
            "Requirement already satisfied: certifi>=2017.4.17 in /usr/local/lib/python3.8/dist-packages (from requests[socks]->gdown) (2022.9.24)\n",
            "Requirement already satisfied: idna<3,>=2.5 in /usr/local/lib/python3.8/dist-packages (from requests[socks]->gdown) (2.10)\n",
            "Requirement already satisfied: PySocks!=1.5.7,>=1.5.6 in /usr/local/lib/python3.8/dist-packages (from requests[socks]->gdown) (1.7.1)\n",
            "Installing collected packages: gdown\n",
            "  Attempting uninstall: gdown\n",
            "    Found existing installation: gdown 4.4.0\n",
            "    Uninstalling gdown-4.4.0:\n",
            "      Successfully uninstalled gdown-4.4.0\n",
            "Successfully installed gdown-4.6.0\n"
          ]
        }
      ]
    },
    {
      "cell_type": "markdown",
      "source": [
        "Download the dataset"
      ],
      "metadata": {
        "id": "4S7hOW_SF_pJ"
      }
    },
    {
      "cell_type": "code",
      "source": [
        "!gdown 1OwK-wAmygNZ5sxF8T63mTG6EvLdRi0lV\n",
        "!unzip -q nyu_data.zip"
      ],
      "metadata": {
        "id": "qNtCKYr9EBH5",
        "colab": {
          "base_uri": "https://localhost:8080/"
        },
        "outputId": "a019bf2c-f960-453c-d7b9-3dd77fdd6f64"
      },
      "execution_count": 2,
      "outputs": [
        {
          "output_type": "stream",
          "name": "stdout",
          "text": [
            "Downloading...\n",
            "From: https://drive.google.com/uc?id=1OwK-wAmygNZ5sxF8T63mTG6EvLdRi0lV\n",
            "To: /content/nyu_data.zip\n",
            "100% 4.40G/4.40G [00:21<00:00, 205MB/s]\n"
          ]
        }
      ]
    },
    {
      "cell_type": "markdown",
      "source": [
        "Import the required modules"
      ],
      "metadata": {
        "id": "2TfxlSs4GBJx"
      }
    },
    {
      "cell_type": "code",
      "source": [
        "from torch.utils.data import Dataset\n",
        "import torchvision.transforms.functional as TF\n",
        "from PIL import Image\n",
        "from io import BytesIO\n",
        "import pandas as pd\n",
        "import torch\n",
        "import torch.nn as nn\n",
        "from torch.utils.data.dataloader import DataLoader\n",
        "from torchgeometry.losses import SSIM\n",
        "import torch.nn.functional as F\n",
        "import matplotlib.pyplot as plt\n",
        "import numpy as np\n",
        "import time\n",
        "import torch\n",
        "import torch.nn as nn"
      ],
      "metadata": {
        "id": "aNNujRJ3HmSV"
      },
      "execution_count": 3,
      "outputs": []
    },
    {
      "cell_type": "markdown",
      "source": [
        "Define the Dataset"
      ],
      "metadata": {
        "id": "ZgF3jYSfGFqj"
      }
    },
    {
      "cell_type": "code",
      "source": [
        "class DepthDataset(Dataset):\n",
        "    def __init__(self, file_path, samples=1000):\n",
        "        super(DepthDataset, self).__init__()\n",
        "        self.data_list = pd.read_csv(file_path, header=None).sample(samples)\n",
        "\n",
        "    def __getitem__(self, idx):\n",
        "\n",
        "        # load the image and the depth matp\n",
        "        image_path = self.data_list.iloc[idx, 0]\n",
        "        depth_path = self.data_list.iloc[idx, 1]\n",
        "\n",
        "        image = Image.open(image_path)\n",
        "        mask = Image.open(depth_path)\n",
        "\n",
        "        # resize the image\n",
        "        image = TF.resize(image, 480)\n",
        "        mask = TF.resize(mask, 480)\n",
        "\n",
        "        H, W = image.size\n",
        "\n",
        "        if H % 32 != 0:\n",
        "          H = H-H%32\n",
        "        if W % 32 != 0:\n",
        "          W = W-W%32\n",
        "\n",
        "        image = TF.resize(image, (H, W))\n",
        "        mask = TF.resize(mask, (H, W))\n",
        "\n",
        "        # Convert the image to tensors\n",
        "        image = TF.to_tensor(image)\n",
        "        mask = TF.to_tensor(mask)\n",
        "\n",
        "        return image, mask\n",
        "\n",
        "    def __len__(self):\n",
        "        return len(self.data_list)"
      ],
      "metadata": {
        "id": "Px3ZnsAoL_5-"
      },
      "execution_count": 4,
      "outputs": []
    },
    {
      "cell_type": "markdown",
      "source": [
        "Load the datasets in the loaders"
      ],
      "metadata": {
        "id": "TJ-RgtnmGLRa"
      }
    },
    {
      "cell_type": "code",
      "source": [
        "train_set = DepthDataset(\"/content/data/nyu2_train.csv\", samples=100)\n",
        "val_set = DepthDataset('/content/data/nyu2_train.csv', samples=100)\n",
        "\n",
        "train_loader = DataLoader(train_set, batch_size=1, shuffle=True)\n",
        "val_loader = DataLoader(val_set, batch_size=1, shuffle=True)"
      ],
      "metadata": {
        "id": "FMO31SGBMYp_"
      },
      "execution_count": 5,
      "outputs": []
    },
    {
      "cell_type": "markdown",
      "source": [
        "Define the model"
      ],
      "metadata": {
        "id": "OlGD-vX1GNUq"
      }
    },
    {
      "cell_type": "code",
      "source": [
        "import torch\n",
        "import torch.nn as nn\n",
        "from torchvision import models\n",
        "\n",
        "class DepthUnet(nn.Module):\n",
        "  def __init__(self):\n",
        "    super(DepthUnet, self).__init__()\n",
        "\n",
        "    # Define the encoder layers\n",
        "    self.dense_net = models.densenet121(pretrained=True)\n",
        "    self.freeze_pretrained_model(False)\n",
        "\n",
        "    # Define the decoder layers\n",
        "    self.dec1 = nn.Conv2d(1024+1024, 512, 3, padding=1)\n",
        "    self.d_bn1 = nn.BatchNorm2d(512)\n",
        "\n",
        "    self.dec2 = nn.Conv2d(512+512, 256, 5, padding=1)\n",
        "    self.d_bn2 = nn.BatchNorm2d(256)\n",
        "    \n",
        "    self.dec3 = nn.Conv2d(256+256, 128, 5, padding=1)\n",
        "    self.d_bn3 = nn.BatchNorm2d(128)\n",
        "    \n",
        "    self.dec4 = nn.Conv2d(64+128, 16, 7, padding=1)\n",
        "    self.d_bn4 = nn.BatchNorm2d(16)\n",
        "\n",
        "    self.dec5 = nn.Conv2d(16+3, 1, 9, padding=1)\n",
        "\n",
        "  def forward(self, images):\n",
        "    # Encode the input image\n",
        "    features = [images[:, 0:3, :, :]]\n",
        "    for _, layer in self.dense_net.features._modules.items():\n",
        "        features.append(layer(features[-1]))\n",
        "\n",
        "    enc6 = features[11]\n",
        "    enc5 = features[9]\n",
        "    enc4 = features[7]\n",
        "    enc3 = features[5]\n",
        "    enc2 = features[3]\n",
        "    enc1 = features[0]\n",
        "\n",
        "    # Decode the input image\n",
        "    _, _, H, W = enc5.shape\n",
        "    up1 = nn.functional.interpolate(enc6, size=(H, W), mode='bilinear')\n",
        "    dec1 = F.relu(self.d_bn1(self.dec1(torch.cat((up1, enc5), dim=1))))\n",
        "\n",
        "    _, _, H, W = enc4.shape\n",
        "    up2 = nn.functional.interpolate(dec1, size=(H, W), mode='bilinear')\n",
        "    dec2 = F.relu(self.d_bn2(self.dec2(torch.cat((up2, enc4), dim=1))))\n",
        "\n",
        "    _, _, H, W = enc3.shape\n",
        "    up3 = nn.functional.interpolate(dec2, size=(H, W), mode='bilinear')\n",
        "    dec3 = F.relu(self.d_bn3(self.dec3(torch.cat((up3, enc3), dim=1))))\n",
        "\n",
        "    _, _, H, W = enc2.shape\n",
        "    up4 = nn.functional.interpolate(dec3, size=(H, W), mode='bilinear')\n",
        "    dec4 = F.relu(self.dec4(torch.cat((up4, enc2), dim=1)))\n",
        "\n",
        "    _, _, H, W = enc1.shape\n",
        "    up5 = nn.functional.interpolate(dec4, size=(H, W), mode='bilinear')\n",
        "    dec5 = torch.sigmoid(self.dec5(torch.cat((images, up5), dim=1)))\n",
        "\n",
        "    # Return the final decoded image\n",
        "    return nn.functional.interpolate(dec5, size=(H, W), mode='bilinear')\n",
        "\n",
        "  def freeze_pretrained_model(self, freeze: bool):\n",
        "    for param in self.dense_net.features.parameters():\n",
        "      param.requires_grad = not freeze"
      ],
      "metadata": {
        "id": "x5720nWeK_eb"
      },
      "execution_count": 6,
      "outputs": []
    },
    {
      "cell_type": "markdown",
      "source": [
        "Loss:"
      ],
      "metadata": {
        "id": "Ir-mjnuPGxgC"
      }
    },
    {
      "cell_type": "code",
      "source": [
        "from torch.nn import MSELoss, L1Loss, HuberLoss\n",
        "from torch.optim import SGD, Adam\n",
        "from torch.optim.lr_scheduler import ReduceLROnPlateau"
      ],
      "metadata": {
        "id": "XzkYKgtuKO74"
      },
      "execution_count": 7,
      "outputs": []
    },
    {
      "cell_type": "code",
      "source": [
        "device = torch.device(\"cuda\" if torch.cuda.is_available() else \"cpu\")\n",
        "print(f\"Model will train on {device}\")\n",
        "model = DepthUnet()"
      ],
      "metadata": {
        "colab": {
          "base_uri": "https://localhost:8080/",
          "height": 173,
          "referenced_widgets": [
            "acf91963310f495998df69b1e155ba63",
            "62a6b9d30dfd4fcc9acd8910e27b787a",
            "461b0a06385f44e2bf450db5d64bf9d1",
            "0f80ff0aec294639bfbda2308338303b",
            "7d171c8ff512473ab42b8438889001fa",
            "31d5be1b219a428bafd538490ce31e61",
            "245daa62ded3408a964658f33cf10f77",
            "5494d5f172294e6480ffe4bf654889a4",
            "f51c44b4681542a0a4c3b3f81b4f0f16",
            "2b13e669cd2f4da2b16af0cce851938b",
            "d5d15efee8f0402196e904c49afcbcb3"
          ]
        },
        "id": "-ham-1AqE3ie",
        "outputId": "5ab7efc1-349e-4b5e-b09c-510f8b19299f"
      },
      "execution_count": 8,
      "outputs": [
        {
          "output_type": "stream",
          "name": "stdout",
          "text": [
            "Model will train on cuda\n"
          ]
        },
        {
          "output_type": "stream",
          "name": "stderr",
          "text": [
            "/usr/local/lib/python3.8/dist-packages/torchvision/models/_utils.py:208: UserWarning: The parameter 'pretrained' is deprecated since 0.13 and may be removed in the future, please use 'weights' instead.\n",
            "  warnings.warn(\n",
            "/usr/local/lib/python3.8/dist-packages/torchvision/models/_utils.py:223: UserWarning: Arguments other than a weight enum or `None` for 'weights' are deprecated since 0.13 and may be removed in the future. The current behavior is equivalent to passing `weights=DenseNet121_Weights.IMAGENET1K_V1`. You can also use `weights=DenseNet121_Weights.DEFAULT` to get the most up-to-date weights.\n",
            "  warnings.warn(msg)\n",
            "Downloading: \"https://download.pytorch.org/models/densenet121-a639ec97.pth\" to /root/.cache/torch/hub/checkpoints/densenet121-a639ec97.pth\n"
          ]
        },
        {
          "output_type": "display_data",
          "data": {
            "text/plain": [
              "  0%|          | 0.00/30.8M [00:00<?, ?B/s]"
            ],
            "application/vnd.jupyter.widget-view+json": {
              "version_major": 2,
              "version_minor": 0,
              "model_id": "acf91963310f495998df69b1e155ba63"
            }
          },
          "metadata": {}
        }
      ]
    },
    {
      "cell_type": "code",
      "source": [
        "criterion1 = L1Loss()\n",
        "criterion2 = HuberLoss()\n",
        "criterion3 = MSELoss()"
      ],
      "metadata": {
        "id": "lHW3aQ2RUKmV"
      },
      "execution_count": 9,
      "outputs": []
    },
    {
      "cell_type": "code",
      "source": [
        "def scale_invariant_loss(y_true, y_pred):\n",
        "    y_true_sum = torch.sum(y_true)\n",
        "    y_pred_sum = torch.sum(y_pred)\n",
        "\n",
        "    y_true_squared_sum = torch.sum(y_true ** 2)\n",
        "    y_pred_squared_sum = torch.sum(y_pred ** 2)\n",
        "\n",
        "    num = y_true_sum * y_pred_sum\n",
        "    den = y_true_squared_sum * y_pred_squared_sum\n",
        "\n",
        "    return num / den"
      ],
      "metadata": {
        "id": "XTaIVEHB1Pn9"
      },
      "execution_count": 11,
      "outputs": []
    },
    {
      "cell_type": "code",
      "source": [
        "def dice_loss_with_sigmoid(sigmoid, targets, smooth=1.0):\n",
        "\t\"\"\"\n",
        "  Works\n",
        "\tsigmoid: (torch.float32)  shape (N, 1, H, W)\n",
        "\ttargets: (torch.float32) shape (N, H, W), value {0,1}\n",
        "\t\"\"\"\n",
        "\toutputs = torch.squeeze(sigmoid, dim=1)\n",
        "\n",
        "\tinter = outputs * targets\n",
        "\tdice = 1 - ((2*inter.sum(dim=(1,2)) + smooth) / (outputs.sum(dim=(1,2))+targets.sum(dim=(1,2)) + smooth))\n",
        "\tdice = dice.mean()\n",
        "\treturn dice"
      ],
      "metadata": {
        "id": "EDHnm5vbrhM3"
      },
      "execution_count": 12,
      "outputs": []
    },
    {
      "cell_type": "code",
      "source": [
        "l1_criterion = L1Loss()"
      ],
      "metadata": {
        "id": "PHCVdRSpde8w"
      },
      "execution_count": 13,
      "outputs": []
    },
    {
      "cell_type": "code",
      "source": [
        "optimizer = SGD(model.parameters(), lr=1e-3)\n",
        "# optimizer = Adam(model.parameters(), lr=0.01, momentum=0.99)\n",
        "scheduler = ReduceLROnPlateau(optimizer, mode='min', patience=0, factor=0.9)"
      ],
      "metadata": {
        "id": "_3LRDES5AdYe"
      },
      "execution_count": 14,
      "outputs": []
    },
    {
      "cell_type": "code",
      "source": [
        "model = model.to(device)"
      ],
      "metadata": {
        "id": "Yuyald1EiRTn"
      },
      "execution_count": 15,
      "outputs": []
    },
    {
      "cell_type": "markdown",
      "source": [
        "Model Training"
      ],
      "metadata": {
        "id": "O5Sor_n2G2ao"
      }
    },
    {
      "cell_type": "code",
      "source": [
        "import time, sys\n",
        "import matplotlib.pyplot as plt\n",
        "batch_size = 1\n",
        "from torch.utils.tensorboard import SummaryWriter\n",
        "from collections import defaultdict\n",
        "writer = SummaryWriter()\n",
        "\n",
        "def train(num_epochs: int, batch_size: int, metrics:list, names:list):\n",
        "    start_time = time.time()\n",
        "\n",
        "    training_steps = len(train_set) // batch_size\n",
        "    val_steps = len(val_set) // batch_size\n",
        "\n",
        "    training_losses = {}\n",
        "    val_losses = {}\n",
        "\n",
        "    best_avg_val_loss = sys.maxsize\n",
        "\n",
        "    for epoch in range(num_epochs):\n",
        "        model.train()\n",
        "\n",
        "        total_training_losses = defaultdict(int)\n",
        "        total_val_losses = defaultdict(int)\n",
        "        total_training_loss=0\n",
        "        total_val_loss=0\n",
        "\n",
        "\n",
        "        for i, (images, labels) in enumerate(train_loader, 0):\n",
        "            images = images.to(device)\n",
        "            labels = labels.to(device)\n",
        "\n",
        "            optimizer.zero_grad()\n",
        "            preds = model(images)\n",
        "            # for i, metric in enumerate(metrics):\n",
        "            #   total_training_losses[i]+=metric(preds, labels)\n",
        "\n",
        "            net_loss = criterion3(preds, labels)\n",
        "\n",
        "            total_training_loss += net_loss.item()\n",
        "\n",
        "            net_loss.backward()\n",
        "            optimizer.step()\n",
        "\n",
        "            scheduler.step(net_loss.item())\n",
        "                \n",
        "        with torch.no_grad():\n",
        "            model.eval()\n",
        "\n",
        "            for images, labels in val_loader:\n",
        "                images = images.to(device)\n",
        "                labels = labels.to(device)\n",
        "\n",
        "                # for i, metric in enumerate(metrics):\n",
        "                #   total_val_losses[i]+=metric(preds, labels)\n",
        "                preds = model(images)\n",
        "                net_loss = criterion3(preds, labels)\n",
        "                total_val_loss += net_loss.item()\n",
        "       \n",
        "        # for i, metric in enumerate(metrics):\n",
        "        #     writer.add_scalar(f'Training/{names[i]}', total_training_losses[i], epoch+1)\n",
        "        #     writer.add_scalar(f'Validation/{names[i]}', total_val_losses[i], epoch+1)\n",
        "\n",
        "        avg_training_loss = total_training_loss \n",
        "        avg_val_loss = total_val_loss \n",
        "\n",
        "            \n",
        "        print(f\"{epoch+1} | Train Loss: {avg_training_loss:.5f} | Val Loss: {avg_val_loss:.5f}\")\n",
        "\n",
        "        torch.cuda.empty_cache()\n",
        "\n",
        "        if avg_val_loss < best_avg_val_loss:\n",
        "            torch.save(model.state_dict(), \"best_model.pth\")\n",
        "            best_avg_val_loss = avg_val_loss\n",
        "\n",
        "    end_time = time.time()\n",
        "    print(f\"Total training time: {(end_time - start_time):.2f}s\")\n",
        "\n",
        "    return training_losses, testing_losses"
      ],
      "metadata": {
        "id": "GBaIDdhocNvA"
      },
      "execution_count": 18,
      "outputs": []
    },
    {
      "cell_type": "code",
      "source": [
        "train(3, 1, \n",
        "          metrics=[L1Loss(), HuberLoss(), MSELoss(), dice_loss_with_sigmoid, scale_invariant_loss], \n",
        "          names=['L1 Loss', 'Huber Loss', 'MSE Loss', 'Dice Loss', 'SI Loss'])"
      ],
      "metadata": {
        "colab": {
          "base_uri": "https://localhost:8080/"
        },
        "id": "J59l0QhIfQSi",
        "outputId": "cc023105-d48c-49af-c93f-564195c62113"
      },
      "execution_count": 19,
      "outputs": [
        {
          "output_type": "stream",
          "name": "stdout",
          "text": [
            "1 | Train Loss: 6.49292 | Val Loss: 6.42461\n",
            "2 | Train Loss: 6.33451 | Val Loss: 6.41607\n",
            "3 | Train Loss: 6.33353 | Val Loss: 6.42751\n",
            "Total training time: 140.68s\n"
          ]
        }
      ]
    },
    {
      "cell_type": "code",
      "source": [
        "# %load_ext tensorboard\n",
        "# %tensorboard --logdir runs"
      ],
      "metadata": {
        "id": "BM25iNl9jfmR"
      },
      "execution_count": 20,
      "outputs": []
    },
    {
      "cell_type": "markdown",
      "source": [
        "Prediction"
      ],
      "metadata": {
        "id": "r3I54FylG5Pv"
      }
    },
    {
      "cell_type": "code",
      "source": [
        "input_image, output_image = next(iter(train_loader))"
      ],
      "metadata": {
        "id": "7bUVTwOlG4af"
      },
      "execution_count": 21,
      "outputs": []
    },
    {
      "cell_type": "code",
      "source": [
        "model.to('cpu')\n",
        "model_output = model(input_image)"
      ],
      "metadata": {
        "id": "Do1sfL24N4GU"
      },
      "execution_count": 22,
      "outputs": []
    },
    {
      "cell_type": "code",
      "source": [
        "model_output = model_output[0][0].detach().numpy()"
      ],
      "metadata": {
        "id": "aJKOtL1SUXM5"
      },
      "execution_count": 23,
      "outputs": []
    },
    {
      "cell_type": "code",
      "source": [
        "import matplotlib.pyplot as plt\n",
        "\n",
        "plt.imshow(model_output)\n",
        "plt.show()"
      ],
      "metadata": {
        "id": "4h4RopqjSt6S",
        "colab": {
          "base_uri": "https://localhost:8080/",
          "height": 269
        },
        "outputId": "3cdd78e1-3bd2-4197-ff4e-e131c70b4441"
      },
      "execution_count": 24,
      "outputs": [
        {
          "output_type": "display_data",
          "data": {
            "text/plain": [
              "<Figure size 432x288 with 1 Axes>"
            ],
            "image/png": "[encoded data removed]"
          },
          "metadata": {
            "needs_background": "light"
          }
        }
      ]
    },
    {
      "cell_type": "code",
      "source": [
        "plt.imshow(input_image[0].permute(1, 2, 0))"
      ],
      "metadata": {
        "id": "uUCa0d6jSzOa",
        "colab": {
          "base_uri": "https://localhost:8080/",
          "height": 286
        },
        "outputId": "3bb65c39-70e0-460a-a7ad-7bdd74d9215e"
      },
      "execution_count": 25,
      "outputs": [
        {
          "output_type": "execute_result",
          "data": {
            "text/plain": [
              "<matplotlib.image.AxesImage at 0x7f761e6fe6a0>"
            ]
          },
          "metadata": {},
          "execution_count": 25
        },
        {
          "output_type": "display_data",
          "data": {
            "text/plain": [
              "<Figure size 432x288 with 1 Axes>"
            ],
            "image/png": "[encoded data removed]"
          },
          "metadata": {
            "needs_background": "light"
          }
        }
      ]
    },
    {
      "cell_type": "code",
      "source": [
        "plt.imshow(output_image[0][0])"
      ],
      "metadata": {
        "id": "KUGW0QSrOqxJ",
        "colab": {
          "base_uri": "https://localhost:8080/",
          "height": 286
        },
        "outputId": "433b885f-d960-410e-a70e-fb7a27e5dd06"
      },
      "execution_count": 26,
      "outputs": [
        {
          "output_type": "execute_result",
          "data": {
            "text/plain": [
              "<matplotlib.image.AxesImage at 0x7f75c816de20>"
            ]
          },
          "metadata": {},
          "execution_count": 26
        },
        {
          "output_type": "display_data",
          "data": {
            "text/plain": [
              "<Figure size 432x288 with 1 Axes>"
            ],
            "image/png": "[encoded data removed]"
          },
          "metadata": {
            "needs_background": "light"
          }
        }
      ]
    },
    {
      "cell_type": "code",
      "source": [
        "from google.colab import files\n",
        "files.download('best_model.pth')"
      ],
      "metadata": {
        "id": "kRpBUU3blcY4"
      },
      "execution_count": null,
      "outputs": []
    },
    {
      "cell_type": "code",
      "source": [
        "best_model = DepthUnet()\n",
        "\n",
        "best_model.load_state_dict(torch.load(\"best_model.pth\"))\n",
        "\n",
        "count = 0\n",
        "for input, label in train_loader:\n",
        "  output = model(input)\n",
        "  plt.imshow(input[0].permute(1, 2, 0))\n",
        "  plt.show()\n",
        "  plt.imshow(output[0][0].detach().numpy())\n",
        "  plt.show()\n",
        "  plt.imshow(label[0][0])\n",
        "  plt.show()\n",
        "  count+=1\n",
        "  if count==5:\n",
        "    break"
      ],
      "metadata": {
        "id": "HxuHux-z2q_q"
      },
      "execution_count": null,
      "outputs": []
    }
  ]
}